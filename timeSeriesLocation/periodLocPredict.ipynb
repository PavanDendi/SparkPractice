{
 "cells": [
  {
   "cell_type": "code",
   "execution_count": 1,
   "metadata": {
    "collapsed": true
   },
   "outputs": [],
   "source": [
    "from pyspark import SparkContext\n",
    "from pyspark.sql import HiveContext, DataFrameWriter\n",
    "from datetime import datetime\n",
    "import time\n",
    "import re"
   ]
  },
  {
   "cell_type": "code",
   "execution_count": 6,
   "metadata": {
    "collapsed": false
   },
   "outputs": [],
   "source": [
    "#Put all variables here\n",
    "iHiveTable = \"vconsolsession\"\n",
    "oHiveTable = \"vprdloc\"\n",
    "\n",
    "startDate = 20160601\n",
    "endDate = 20160602\n",
    "\n",
    "iHiveQuery = \"SELECT CONCAT(uid, ',',\" \\\n",
    "+ \" loc_ts_dur) as ev \" \\\n",
    "+ \"from \" + iHiveTable \\\n",
    "+ \" where data_dt>=\" + str(startDate) \\\n",
    "+ \" and data_dt <=\" + str(endDate)"
   ]
  },
  {
   "cell_type": "code",
   "execution_count": 7,
   "metadata": {
    "collapsed": false
   },
   "outputs": [],
   "source": [
    "#iHiveQuery"
   ]
  },
  {
   "cell_type": "code",
   "execution_count": 8,
   "metadata": {
    "collapsed": false
   },
   "outputs": [],
   "source": [
    "sc = SparkContext( 'local', 'pyspark')\n",
    "hiveContext = HiveContext(sc)"
   ]
  },
  {
   "cell_type": "code",
   "execution_count": 9,
   "metadata": {
    "collapsed": false
   },
   "outputs": [],
   "source": [
    "tdf = hiveContext.sql(iHiveQuery)"
   ]
  },
  {
   "cell_type": "code",
   "execution_count": 10,
   "metadata": {
    "collapsed": false
   },
   "outputs": [],
   "source": [
    "#tdf.collect()"
   ]
  },
  {
   "cell_type": "code",
   "execution_count": 11,
   "metadata": {
    "collapsed": true
   },
   "outputs": [],
   "source": [
    "def predictPeriodDuration(x):\n",
    "    uidI = 0\n",
    "    locTsDur = 1\n",
    "    \n",
    "    locPrdDur = []\n",
    "    RX = re.compile('[[()]')\n",
    "    locTsDurL = RX.sub('', x[locTsDur]).replace(']','').split('|')\n",
    "    for locTsDur in locTsDurL:\n",
    "        loc,ts,dur = locTsDur.split(':')\n",
    "        #Convert ts to period\n",
    "        t1 = time.gmtime(int(ts))\n",
    "        prd = ((t1.tm_wday + 1)%7)*24 + t1.tm_hour\n",
    "        locPrdDur.append((loc,prd,int(dur), int(ts)))\n",
    "\n",
    "    #Pick the location with max duration in each period\n",
    "    locPrdDur = sorted(locPrdDur, key=lambda x: (x[1],x[2]), reverse=True)\n",
    "    sortedPrdL = []\n",
    "    prevprd = -1\n",
    "    for loc,prd,dur,ts in locPrdDur:\n",
    "        if prevprd != prd:\n",
    "            sortedPrdL.append((x[uidI],loc,prd,dur,ts))\n",
    "        prevprd = prd\n",
    "\n",
    "    sortedPrdL = sorted(sortedPrdL, key=lambda x: x[2])\n",
    "    return sortedPrdL"
   ]
  },
  {
   "cell_type": "code",
   "execution_count": 12,
   "metadata": {
    "collapsed": false
   },
   "outputs": [],
   "source": [
    "rdd2 = tdf.select(\"ev\").rdd.map(lambda x: tuple(x.ev.split(','))) \\\n",
    "                            .reduceByKey(lambda a,b: a+b) \\\n",
    "                            .flatMap(predictPeriodDuration)"
   ]
  },
  {
   "cell_type": "code",
   "execution_count": 13,
   "metadata": {
    "collapsed": false
   },
   "outputs": [],
   "source": [
    "#rdd2.take(10)"
   ]
  },
  {
   "cell_type": "code",
   "execution_count": 14,
   "metadata": {
    "collapsed": true
   },
   "outputs": [],
   "source": [
    "tdf2 = hiveContext.createDataFrame(rdd2, ['uid','loc','prd','dur', 'ts'])"
   ]
  },
  {
   "cell_type": "code",
   "execution_count": 15,
   "metadata": {
    "collapsed": false
   },
   "outputs": [],
   "source": [
    "#tdf2.collect()"
   ]
  },
  {
   "cell_type": "code",
   "execution_count": 16,
   "metadata": {
    "collapsed": true
   },
   "outputs": [],
   "source": [
    "df_writer = DataFrameWriter(tdf2)\n",
    "df_writer.insertInto(oHiveTable,overwrite=True)"
   ]
  },
  {
   "cell_type": "code",
   "execution_count": 17,
   "metadata": {
    "collapsed": true
   },
   "outputs": [],
   "source": [
    "sc.stop()"
   ]
  },
  {
   "cell_type": "code",
   "execution_count": 19,
   "metadata": {
    "collapsed": false
   },
   "outputs": [],
   "source": [
    "#predictPeriodDuration((u'101',\n",
    "#   u'[(202:1464764702:90)|(201:1464764642:60)|(201:1464764792:50)|(203:1464782682:50)|(202:1464782642:40)]'))"
   ]
  }
 ],
 "metadata": {
  "kernelspec": {
   "display_name": "Python 2",
   "language": "python",
   "name": "python2"
  },
  "language_info": {
   "codemirror_mode": {
    "name": "ipython",
    "version": 2
   },
   "file_extension": ".py",
   "mimetype": "text/x-python",
   "name": "python",
   "nbconvert_exporter": "python",
   "pygments_lexer": "ipython2",
   "version": "2.7.11"
  }
 },
 "nbformat": 4,
 "nbformat_minor": 0
}
