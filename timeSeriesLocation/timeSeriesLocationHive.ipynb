{
 "cells": [
  {
   "cell_type": "code",
   "execution_count": 8,
   "metadata": {
    "collapsed": false
   },
   "outputs": [],
   "source": [
    "from pyspark import SparkContext\n",
    "from pyspark.sql import Row, SQLContext\n",
    "from pyspark.sql import HiveContext\n",
    "from datetime import datetime\n",
    "from pyspark.sql.functions import udf\n",
    "import os"
   ]
  },
  {
   "cell_type": "code",
   "execution_count": 9,
   "metadata": {
    "collapsed": false
   },
   "outputs": [],
   "source": [
    "#Must do this if running py files independently\n",
    "sc = SparkContext( 'local', 'pyspark')\n",
    "sqlContext = HiveContext(sc)"
   ]
  },
  {
   "cell_type": "code",
   "execution_count": 10,
   "metadata": {
    "collapsed": false
   },
   "outputs": [],
   "source": [
    "tdf = sqlContext.sql(\"SELECT CONCAT(uid, ',', start_time,',',dur_loc_seq) as ev from rawlocationtime\")"
   ]
  },
  {
   "cell_type": "code",
   "execution_count": 11,
   "metadata": {
    "collapsed": false
   },
   "outputs": [
    {
     "data": {
      "text/plain": [
       "[Row(ev=u'101,2016-06-01@12:04:02,[40:50][202:203]'),\n",
       " Row(ev=u'102,2016-06-01@12:10:05,[60:60][210:204]'),\n",
       " Row(ev=u'101,2016-06-02@07:04:02,[60:50][201:202]'),\n",
       " Row(ev=u'101,2016-06-02@07:05:52,[40:50][202:201]')]"
      ]
     },
     "execution_count": 11,
     "metadata": {},
     "output_type": "execute_result"
    }
   ],
   "source": [
    "tdf.collect()"
   ]
  },
  {
   "cell_type": "code",
   "execution_count": 12,
   "metadata": {
    "collapsed": false
   },
   "outputs": [],
   "source": [
    "DATETIME_FMT=\"%Y-%m-%d@%H:%M:%S\"\n",
    "def toLocDurTuples(line):\n",
    "    values = line.split(',')\n",
    "    uid = values[0]\n",
    "    startTime = int(datetime.strptime(values[1],DATETIME_FMT).strftime(\"%s\"))\n",
    "    \n",
    "    durLocStrL = values[2].split('][')\n",
    "    durList = map(int, durLocStrL[0][1:].split(':'))\n",
    "    loclist = map(int, durLocStrL[1][0:-1].split(':'))\n",
    "    \n",
    "    locTimeL = []\n",
    "    dur = 0;\n",
    "    i = 0\n",
    "    for d in durList:\n",
    "        locTimeL.append((loclist[i], startTime+dur, d))\n",
    "        dur += d\n",
    "        i += 1\n",
    "    return (uid, locTimeL)\n",
    "\n",
    "def tfin(x):\n",
    "    data = x[1]\n",
    "    #Sort by timestamp\n",
    "    data = sorted(data, key=lambda tup: tup[1])\n",
    "    \n",
    "    #Remove redundant locations\n",
    "    data2 = []\n",
    "    maxlen = len(data) - 1\n",
    "    i = 0\n",
    "    while(1):\n",
    "        if (i >= maxlen):\n",
    "            if (i == maxlen):\n",
    "                data2.append(data[i])\n",
    "            break;\n",
    "        if data[i][0] != data[i+1][0]:\n",
    "            #locations are different\n",
    "            data2.append(data[i])\n",
    "            i += 1\n",
    "        else:\n",
    "            #locations are same!\n",
    "            if (data[i][1] + data[i][2] == data[i+1][1]):\n",
    "                #back to back on same location\n",
    "                data2.append((data[i][0], \\\n",
    "                              data[i][1], \\\n",
    "                              data[i][2] + data[i+1][2]))\n",
    "                #skip the next entry\n",
    "                i += 2\n",
    "            else:\n",
    "                i += 1\n",
    "    return(x[0],sorted(data2, key=lambda x: x[2], reverse=True))"
   ]
  },
  {
   "cell_type": "code",
   "execution_count": 13,
   "metadata": {
    "collapsed": false
   },
   "outputs": [],
   "source": [
    "rdd2 = tdf.select(\"ev\").rdd.map(lambda x: toLocDurTuples(x.ev)) \\\n",
    "                       .reduceByKey(lambda a,b: a+b) \\\n",
    "                       .map(lambda x: tfin(x))"
   ]
  },
  {
   "cell_type": "code",
   "execution_count": 14,
   "metadata": {
    "collapsed": false
   },
   "outputs": [
    {
     "name": "stdout",
     "output_type": "stream",
     "text": [
      "(u'102', [(210, 1464783005, 60), (204, 1464783065, 60)])\n",
      "(u'101', [(202, 1464851102, 90), (201, 1464851042, 60), (203, 1464782682, 50), (201, 1464851192, 50), (202, 1464782642, 40)])\n"
     ]
    }
   ],
   "source": [
    "for x in rdd2.take(3):\n",
    "    print x"
   ]
  },
  {
   "cell_type": "code",
   "execution_count": 15,
   "metadata": {
    "collapsed": true
   },
   "outputs": [],
   "source": [
    "sc.stop()"
   ]
  },
  {
   "cell_type": "code",
   "execution_count": 2,
   "metadata": {
    "collapsed": false
   },
   "outputs": [],
   "source": [
    "#toLocDurTuples('101,2016-06-01@12:04:02,[40:50][202:203]')"
   ]
  },
  {
   "cell_type": "code",
   "execution_count": 3,
   "metadata": {
    "collapsed": false
   },
   "outputs": [
    {
     "data": {
      "text/plain": [
       "\"\\ntfin((u'101',\\n  [(202, 1464782642, 40),\\n   (203, 1464782682, 50),\\n   (201, 1464851042, 60),\\n   (202, 1464851102, 50),\\n   (202, 1464851152, 40),\\n   (201, 1464851192, 50)]))\\n\""
      ]
     },
     "execution_count": 3,
     "metadata": {},
     "output_type": "execute_result"
    }
   ],
   "source": [
    "'''\n",
    "tfin((u'101',\n",
    "  [(202, 1464782642, 40),\n",
    "   (203, 1464782682, 50),\n",
    "   (201, 1464851042, 60),\n",
    "   (202, 1464851102, 50),\n",
    "   (202, 1464851152, 40),\n",
    "   (201, 1464851192, 50)]))\n",
    "'''"
   ]
  }
 ],
 "metadata": {
  "kernelspec": {
   "display_name": "Python 2",
   "language": "python",
   "name": "python2"
  },
  "language_info": {
   "codemirror_mode": {
    "name": "ipython",
    "version": 2
   },
   "file_extension": ".py",
   "mimetype": "text/x-python",
   "name": "python",
   "nbconvert_exporter": "python",
   "pygments_lexer": "ipython2",
   "version": "2.7.11"
  }
 },
 "nbformat": 4,
 "nbformat_minor": 0
}
