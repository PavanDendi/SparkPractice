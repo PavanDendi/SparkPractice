{
 "cells": [
  {
   "cell_type": "code",
   "execution_count": 45,
   "metadata": {
    "collapsed": false
   },
   "outputs": [],
   "source": [
    "from pyspark import SparkContext\n",
    "from pyspark.sql import Row, SQLContext\n",
    "from pyspark.sql import HiveContext, DataFrameWriter\n",
    "from datetime import datetime\n",
    "import os"
   ]
  },
  {
   "cell_type": "code",
   "execution_count": 46,
   "metadata": {
    "collapsed": false
   },
   "outputs": [],
   "source": [
    "#Put all variables here\n",
    "iHiveTable = \"rawlocationtime\"\n",
    "oHiveTable = \"vlocations\"\n",
    "\n",
    "iHiveQuery = \"SELECT CONCAT(uid, ',', start_time,',',dur_loc_seq) as ev from \" +  iHiveTable"
   ]
  },
  {
   "cell_type": "code",
   "execution_count": 47,
   "metadata": {
    "collapsed": false
   },
   "outputs": [],
   "source": [
    "#Must do this if running py files independently\n",
    "sc = SparkContext( 'local', 'pyspark')\n",
    "hiveContext = HiveContext(sc)"
   ]
  },
  {
   "cell_type": "code",
   "execution_count": 48,
   "metadata": {
    "collapsed": false
   },
   "outputs": [],
   "source": [
    "tdf = hiveContext.sql(iHiveQuery)"
   ]
  },
  {
   "cell_type": "code",
   "execution_count": 51,
   "metadata": {
    "collapsed": false
   },
   "outputs": [],
   "source": [
    "#tdf.collect()"
   ]
  },
  {
   "cell_type": "code",
   "execution_count": 52,
   "metadata": {
    "collapsed": false
   },
   "outputs": [],
   "source": [
    "DATETIME_FMT=\"%Y-%m-%d@%H:%M:%S\"\n",
    "def toLocDurTuples(line):\n",
    "    values = line.split(',')\n",
    "    uid = values[0]\n",
    "    startTime = int(datetime.strptime(values[1],DATETIME_FMT).strftime(\"%s\"))\n",
    "    \n",
    "    durLocStrL = values[2].split('][')\n",
    "    durList = map(int, durLocStrL[0][1:].split(':'))\n",
    "    loclist = map(int, durLocStrL[1][0:-1].split(':'))\n",
    "    \n",
    "    locTimeL = []\n",
    "    dur = 0;\n",
    "    i = 0\n",
    "    for d in durList:\n",
    "        locTimeL.append((loclist[i], startTime+dur, d))\n",
    "        dur += d\n",
    "        i += 1\n",
    "    return (uid, locTimeL)\n",
    "\n",
    "def tfin(x):\n",
    "    data = x[1]\n",
    "    #Sort by timestamp\n",
    "    data = sorted(data, key=lambda tup: tup[1])\n",
    "    \n",
    "    #Remove redundant locations\n",
    "    data2 = []\n",
    "    maxlen = len(data) - 1\n",
    "    i = 0\n",
    "    while(1):\n",
    "        if (i >= maxlen):\n",
    "            if (i == maxlen):\n",
    "                data2.append((x[0], data[i][0], data[i][1], data[i][2]))\n",
    "            break;\n",
    "        if data[i][0] != data[i+1][0]:\n",
    "            #locations are different\n",
    "            data2.append((x[0], data[i][0], data[i][1], data[i][2]))\n",
    "            i += 1\n",
    "        else:\n",
    "            #locations are same!\n",
    "            if (data[i][1] + data[i][2] == data[i+1][1]):\n",
    "                #back to back on same location\n",
    "                data2.append((x[0], data[i][0], \\\n",
    "                              data[i][1], \\\n",
    "                              data[i][2] + data[i+1][2]))\n",
    "                #skip the next entry\n",
    "                i += 2\n",
    "            else:\n",
    "                i += 1\n",
    "    return(sorted(data2, key=lambda x: x[3], reverse=True))"
   ]
  },
  {
   "cell_type": "code",
   "execution_count": 53,
   "metadata": {
    "collapsed": false
   },
   "outputs": [],
   "source": [
    "rdd2 = tdf.select(\"ev\").rdd.map(lambda x: toLocDurTuples(x.ev)) \\\n",
    "                       .reduceByKey(lambda a,b: a+b) \\\n",
    "                       .flatMap(lambda x: tfin(x))"
   ]
  },
  {
   "cell_type": "code",
   "execution_count": 56,
   "metadata": {
    "collapsed": false
   },
   "outputs": [],
   "source": [
    "#rdd2.take(10)"
   ]
  },
  {
   "cell_type": "code",
   "execution_count": 57,
   "metadata": {
    "collapsed": false
   },
   "outputs": [],
   "source": [
    "tdf2 = hiveContext.createDataFrame(rdd2, ['uid', 'loc','ts','dur'])"
   ]
  },
  {
   "cell_type": "code",
   "execution_count": 60,
   "metadata": {
    "collapsed": false
   },
   "outputs": [],
   "source": [
    "#tdf2.collect()"
   ]
  },
  {
   "cell_type": "code",
   "execution_count": 61,
   "metadata": {
    "collapsed": true
   },
   "outputs": [],
   "source": [
    "df_writer = DataFrameWriter(tdf2)\n",
    "df_writer.insertInto(oHiveTable,overwrite=True)"
   ]
  },
  {
   "cell_type": "code",
   "execution_count": 62,
   "metadata": {
    "collapsed": true
   },
   "outputs": [],
   "source": [
    "sc.stop()"
   ]
  },
  {
   "cell_type": "code",
   "execution_count": 2,
   "metadata": {
    "collapsed": false
   },
   "outputs": [],
   "source": [
    "#toLocDurTuples('101,2016-06-01@12:04:02,[40:50][202:203]')"
   ]
  },
  {
   "cell_type": "code",
   "execution_count": 3,
   "metadata": {
    "collapsed": false
   },
   "outputs": [
    {
     "data": {
      "text/plain": [
       "\"\\ntfin((u'101',\\n  [(202, 1464782642, 40),\\n   (203, 1464782682, 50),\\n   (201, 1464851042, 60),\\n   (202, 1464851102, 50),\\n   (202, 1464851152, 40),\\n   (201, 1464851192, 50)]))\\n\""
      ]
     },
     "execution_count": 3,
     "metadata": {},
     "output_type": "execute_result"
    }
   ],
   "source": [
    "'''\n",
    "tfin((u'101',\n",
    "  [(202, 1464782642, 40),\n",
    "   (203, 1464782682, 50),\n",
    "   (201, 1464851042, 60),\n",
    "   (202, 1464851102, 50),\n",
    "   (202, 1464851152, 40),\n",
    "   (201, 1464851192, 50)]))\n",
    "'''"
   ]
  },
  {
   "cell_type": "code",
   "execution_count": null,
   "metadata": {
    "collapsed": true
   },
   "outputs": [],
   "source": []
  }
 ],
 "metadata": {
  "kernelspec": {
   "display_name": "Python 2",
   "language": "python",
   "name": "python2"
  },
  "language_info": {
   "codemirror_mode": {
    "name": "ipython",
    "version": 2
   },
   "file_extension": ".py",
   "mimetype": "text/x-python",
   "name": "python",
   "nbconvert_exporter": "python",
   "pygments_lexer": "ipython2",
   "version": "2.7.11"
  }
 },
 "nbformat": 4,
 "nbformat_minor": 0
}
