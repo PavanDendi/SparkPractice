{
 "cells": [
  {
   "cell_type": "code",
   "execution_count": 63,
   "metadata": {
    "collapsed": false
   },
   "outputs": [],
   "source": [
    "from pyspark import SparkContext\n",
    "from pyspark.sql import HiveContext, DataFrameWriter\n",
    "from datetime import datetime\n",
    "from dateutil import tz\n",
    "import time\n",
    "from pyspark.sql.functions import udf, col\n",
    "from pyspark.sql.types import StructType, StructField, IntegerType, StringType"
   ]
  },
  {
   "cell_type": "code",
   "execution_count": 64,
   "metadata": {
    "collapsed": false
   },
   "outputs": [
    {
     "data": {
      "text/plain": [
       "'SELECT ts, mid, market, percentage, workdone from vrawload'"
      ]
     },
     "execution_count": 64,
     "metadata": {},
     "output_type": "execute_result"
    }
   ],
   "source": [
    "#Put all variables here\n",
    "iHiveTable = \"vrawload\"\n",
    "oHiveTable = \"vprdload\"\n",
    "\n",
    "iHiveQuery = \"SELECT ts, mid, market, percentage, workdone from \" +  iHiveTable\n",
    "iHiveQuery"
   ]
  },
  {
   "cell_type": "code",
   "execution_count": 67,
   "metadata": {
    "collapsed": false
   },
   "outputs": [],
   "source": [
    "#Must do this if running py files independently\n",
    "sc = SparkContext( 'local', 'pyspark')\n",
    "hiveContext = HiveContext(sc)"
   ]
  },
  {
   "cell_type": "code",
   "execution_count": 68,
   "metadata": {
    "collapsed": true
   },
   "outputs": [],
   "source": [
    "tdf = hiveContext.sql(iHiveQuery)"
   ]
  },
  {
   "cell_type": "code",
   "execution_count": 69,
   "metadata": {
    "collapsed": false
   },
   "outputs": [
    {
     "name": "stdout",
     "output_type": "stream",
     "text": [
      "+-------------------+---+-------+----------+--------+\n",
      "|                 ts|mid| market|percentage|workdone|\n",
      "+-------------------+---+-------+----------+--------+\n",
      "|2016-06-01@12:00:00| M1|    NYC|      20.2|  2500.0|\n",
      "|2016-06-01@12:15:00| M1|    NYC|      10.5|  2000.0|\n",
      "|2016-06-01@12:30:00| M1|    NYC|       8.5|  1000.0|\n",
      "|2016-06-01@12:45:00| M1|    NYC|      12.5|  1400.0|\n",
      "|2016-06-01@13:00:00| M1|    NYC|      12.5|  1200.0|\n",
      "|2016-06-01@13:15:00| M1|    NYC|      21.5|  4200.0|\n",
      "|2016-06-01@13:30:00| M1|    NYC|      12.5|  1200.0|\n",
      "|2016-06-01@13:45:00| M1|    NYC|      12.5|  1200.0|\n",
      "|2016-06-01@12:00:00| M2|CHICAGO|      12.5|  1200.0|\n",
      "+-------------------+---+-------+----------+--------+\n",
      "\n"
     ]
    }
   ],
   "source": [
    "tdf.show()"
   ]
  },
  {
   "cell_type": "code",
   "execution_count": 52,
   "metadata": {
    "collapsed": false
   },
   "outputs": [],
   "source": [
    "def mid_market_ts(mid, market, ts):\n",
    "    return mid+'_'+market+'_'+ts[:13]\n",
    "udfMidTs = udf(mid_market_ts, StringType())"
   ]
  },
  {
   "cell_type": "code",
   "execution_count": 70,
   "metadata": {
    "collapsed": false
   },
   "outputs": [],
   "source": [
    "tdf2 = tdf.withColumn('ts', udfMidTs(\"mid\", \"market\", \"ts\"))"
   ]
  },
  {
   "cell_type": "code",
   "execution_count": 71,
   "metadata": {
    "collapsed": false
   },
   "outputs": [
    {
     "name": "stdout",
     "output_type": "stream",
     "text": [
      "+--------------------+---+-------+----------+--------+\n",
      "|                  ts|mid| market|percentage|workdone|\n",
      "+--------------------+---+-------+----------+--------+\n",
      "|M1_NYC_2016-06-01@12| M1|    NYC|      20.2|  2500.0|\n",
      "|M1_NYC_2016-06-01@12| M1|    NYC|      10.5|  2000.0|\n",
      "|M1_NYC_2016-06-01@12| M1|    NYC|       8.5|  1000.0|\n",
      "|M1_NYC_2016-06-01@12| M1|    NYC|      12.5|  1400.0|\n",
      "|M1_NYC_2016-06-01@13| M1|    NYC|      12.5|  1200.0|\n",
      "|M1_NYC_2016-06-01@13| M1|    NYC|      21.5|  4200.0|\n",
      "|M1_NYC_2016-06-01@13| M1|    NYC|      12.5|  1200.0|\n",
      "|M1_NYC_2016-06-01@13| M1|    NYC|      12.5|  1200.0|\n",
      "|M2_CHICAGO_2016-0...| M2|CHICAGO|      12.5|  1200.0|\n",
      "+--------------------+---+-------+----------+--------+\n",
      "\n"
     ]
    }
   ],
   "source": [
    "tdf2.show()"
   ]
  },
  {
   "cell_type": "code",
   "execution_count": 72,
   "metadata": {
    "collapsed": false
   },
   "outputs": [
    {
     "name": "stdout",
     "output_type": "stream",
     "text": [
      "+--------------------+---------------+-------------+\n",
      "|                  ts|avg(percentage)|avg(workdone)|\n",
      "+--------------------+---------------+-------------+\n",
      "|M2_CHICAGO_2016-0...|           12.5|       1200.0|\n",
      "|M1_NYC_2016-06-01@12|         12.925|       1725.0|\n",
      "|M1_NYC_2016-06-01@13|          14.75|       1950.0|\n",
      "+--------------------+---------------+-------------+\n",
      "\n"
     ]
    }
   ],
   "source": [
    "tdf3 = tdf2.groupBy(\"ts\").mean()\n",
    "tdf3.show()"
   ]
  },
  {
   "cell_type": "code",
   "execution_count": 73,
   "metadata": {
    "collapsed": false
   },
   "outputs": [],
   "source": [
    "schema = StructType([\n",
    "  StructField(\"machine\", StringType(), True),\n",
    "  StructField(\"market\", StringType(), True),\n",
    "  StructField(\"hr\", IntegerType(), True),\n",
    "  StructField(\"weekday\", IntegerType(), True)\n",
    "])\n",
    "def split_ts(s):\n",
    "    mid, market, data_dt = s.split('_')\n",
    "    day_hr = data_dt.split('@')\n",
    "    hr = int(day_hr[1])\n",
    "    weekday = time.strptime(day_hr[0], \"%Y-%m-%d\").tm_wday\n",
    "    return mid, market, hr, weekday\n",
    "\n",
    "splitTs = udf(split_ts, schema)\n",
    "\n",
    "df4 = tdf3.withColumn(\"ts\", splitTs(col(\"ts\")))\n",
    "\n",
    "#df4 = df4.withColumnRenamed(\"avg(percentage)\", \"percentage\") \\\n",
    "#         .withColumnRenamed(\"avg(workdone)\", \"workdone\")\n",
    "df4 = df4.select(\"ts.machine\", \"ts.market\",\n",
    "                 \"ts.hr\",\"ts.weekday\",\"avg(percentage)\",\n",
    "                 \"avg(workdone)\")"
   ]
  },
  {
   "cell_type": "code",
   "execution_count": 74,
   "metadata": {
    "collapsed": false
   },
   "outputs": [
    {
     "name": "stdout",
     "output_type": "stream",
     "text": [
      "+-------+-------+---+-------+---------------+-------------+\n",
      "|machine| market| hr|weekday|avg(percentage)|avg(workdone)|\n",
      "+-------+-------+---+-------+---------------+-------------+\n",
      "|     M2|CHICAGO| 12|      2|           12.5|       1200.0|\n",
      "|     M1|    NYC| 12|      2|         12.925|       1725.0|\n",
      "|     M1|    NYC| 13|      2|          14.75|       1950.0|\n",
      "+-------+-------+---+-------+---------------+-------------+\n",
      "\n"
     ]
    }
   ],
   "source": [
    "df4.show()"
   ]
  },
  {
   "cell_type": "code",
   "execution_count": 75,
   "metadata": {
    "collapsed": false
   },
   "outputs": [
    {
     "name": "stdout",
     "output_type": "stream",
     "text": [
      "root\n",
      " |-- machine: string (nullable = true)\n",
      " |-- market: string (nullable = true)\n",
      " |-- hr: integer (nullable = true)\n",
      " |-- weekday: integer (nullable = true)\n",
      " |-- avg(percentage): double (nullable = true)\n",
      " |-- avg(workdone): double (nullable = true)\n",
      "\n"
     ]
    }
   ],
   "source": [
    "df4.printSchema()"
   ]
  },
  {
   "cell_type": "code",
   "execution_count": 76,
   "metadata": {
    "collapsed": false
   },
   "outputs": [],
   "source": [
    "df_writer = DataFrameWriter(df4)\n",
    "df_writer.insertInto(oHiveTable,overwrite=True)"
   ]
  },
  {
   "cell_type": "code",
   "execution_count": 66,
   "metadata": {
    "collapsed": true
   },
   "outputs": [],
   "source": [
    "sc.stop()"
   ]
  },
  {
   "cell_type": "code",
   "execution_count": null,
   "metadata": {
    "collapsed": true
   },
   "outputs": [],
   "source": []
  },
  {
   "cell_type": "code",
   "execution_count": 46,
   "metadata": {
    "collapsed": true
   },
   "outputs": [],
   "source": [
    "#Alternate Way: Probably less efficient\n",
    "def to_mid(mid_market_ts):\n",
    "    return mid_market_ts.split('_')[0]\n",
    "\n",
    "def to_market(mid_market_ts):\n",
    "    return mid_market_ts.split('_')[1]\n",
    "\n",
    "def to_hr(mid_market_ts):\n",
    "    return int(mid_market_ts.split('_')[2].split('@')[1])\n",
    "\n",
    "def to_weekday(mid_market_ts):\n",
    "    return time.strptime(mid_market_ts.split('_')[2].split('@')[0], \"%Y-%m-%d\").tm_wday\n",
    "\n",
    "toMid = udf(to_mid, StringType())\n",
    "toMarket = udf(to_market, StringType())\n",
    "toHr = udf(to_hr, IntegerType())\n",
    "toWeekday = udf(to_weekday, IntegerType())\n",
    "\n",
    "tdf4 = tdf3.withColumn('mid', toMid(\"ts\")) \\\n",
    "           .withColumn('market', toMarket(\"ts\")) \\\n",
    "           .withColumn('hr', toHr(\"ts\")) \\\n",
    "           .withColumn('weekday', toWeekday(\"ts\"))"
   ]
  },
  {
   "cell_type": "code",
   "execution_count": null,
   "metadata": {
    "collapsed": true
   },
   "outputs": [],
   "source": []
  }
 ],
 "metadata": {
  "kernelspec": {
   "display_name": "Python 2",
   "language": "python",
   "name": "python2"
  },
  "language_info": {
   "codemirror_mode": {
    "name": "ipython",
    "version": 2
   },
   "file_extension": ".py",
   "mimetype": "text/x-python",
   "name": "python",
   "nbconvert_exporter": "python",
   "pygments_lexer": "ipython2",
   "version": "2.7.11"
  }
 },
 "nbformat": 4,
 "nbformat_minor": 0
}
